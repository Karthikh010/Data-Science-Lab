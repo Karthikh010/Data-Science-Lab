{
 "cells": [
  {
   "cell_type": "code",
   "execution_count": 17,
   "id": "8bbcd788",
   "metadata": {},
   "outputs": [
    {
     "name": "stdout",
     "output_type": "stream",
     "text": [
      "Enter the number of rows : 2\n",
      "Enter the number of columns : 3\n",
      "Elements : 1\n",
      "Elements : 2\n",
      "Elements : 3\n",
      "Elements : 4\n",
      "Elements : 5\n",
      "Elements : 6\n",
      "[[1. 2. 3.]\n",
      " [4. 5. 6.]]\n",
      "Enter the number of rows : 3\n",
      "Enter the number of column : 2\n",
      "Elements : 9\n",
      "Elements : 8\n",
      "Elements : 7\n",
      "Elements : 6\n",
      "Elements : 5\n",
      "Elements : 4\n",
      "[[9. 8.]\n",
      " [7. 6.]\n",
      " [5. 4.]]\n",
      "Dot product is : \n",
      " [[ 38.  32.]\n",
      " [101.  86.]]\n"
     ]
    }
   ],
   "source": [
    "import numpy as np\n",
    "a1=[]\n",
    "r1=int(input(\"Enter the number of rows : \"))\n",
    "c1=int(input(\"Enter the number of columns : \"))\n",
    "for i in range(r1*c1):\n",
    "    a1.append(float(input(\"Elements : \")))\n",
    "a1=np.array(a1).reshape(r1,c1)\n",
    "print(a1)\n",
    "a2=[]\n",
    "r2=int(input(\"Enter the number of rows : \"))\n",
    "c2=int(input(\"Enter the number of column : \"))\n",
    "for i in range(r2*c2):\n",
    "    a2.append(float(input(\"Elements : \")))\n",
    "a2=np.array(a2).reshape(r2,c2)\n",
    "print(a2)\n",
    "print(\"Dot product is : \\n\",np.dot(a1,a2))"
   ]
  },
  {
   "cell_type": "code",
   "execution_count": 18,
   "id": "7efa9a10",
   "metadata": {},
   "outputs": [
    {
     "name": "stdout",
     "output_type": "stream",
     "text": [
      "Enter the number of rows : 2\n",
      "Enter the number of columns : 3\n",
      "Elements : 1\n",
      "Elements : 2\n",
      "Elements : 3\n",
      "Elements : 4\n",
      "Elements : 5\n",
      "Elements : 6\n",
      "The original matrix :\n",
      " [[1. 2. 3.]\n",
      " [4. 5. 6.]]\n",
      "Transpose of the matrix :\n",
      " [[1. 4.]\n",
      " [2. 5.]\n",
      " [3. 6.]]\n"
     ]
    }
   ],
   "source": [
    "a=[]\n",
    "r=int(input(\"Enter the number of rows : \"))\n",
    "c=int(input(\"Enter the number of columns : \"))\n",
    "for i in range(r*c):\n",
    "    a.append(float(input(\"Elements : \")))\n",
    "a=np.array(a).reshape(r,c)\n",
    "print(\"The original matrix :\\n\",a)\n",
    "print(\"Transpose of the matrix :\\n\",a.transpose())"
   ]
  },
  {
   "cell_type": "code",
   "execution_count": 20,
   "id": "fe101051",
   "metadata": {},
   "outputs": [
    {
     "name": "stdout",
     "output_type": "stream",
     "text": [
      "Enter the number of rows : 3\n",
      "Enter the number of columns : 3\n",
      "Elements : 1\n",
      "Elements : 2\n",
      "Elements : 3\n",
      "Elements : 4\n",
      "Elements : 5\n",
      "Elements : 6\n",
      "Elements : 7\n",
      "Elements : 8\n",
      "Elements : 9\n",
      "The original matrix :\n",
      " [[1. 2. 3.]\n",
      " [4. 5. 6.]\n",
      " [7. 8. 9.]]\n",
      "Trace of the matrix :\n",
      " 15.0\n"
     ]
    }
   ],
   "source": [
    "a=[]\n",
    "r=int(input(\"Enter the number of rows : \"))\n",
    "c=int(input(\"Enter the number of columns : \"))\n",
    "for i in range(r*c):\n",
    "    a.append(float(input(\"Elements : \")))\n",
    "a=np.array(a).reshape(r,c)\n",
    "print(\"The original matrix :\\n\",a)\n",
    "print(\"Trace of the matrix :\\n\",a.trace())"
   ]
  },
  {
   "cell_type": "code",
   "execution_count": 10,
   "id": "d491ef86",
   "metadata": {},
   "outputs": [
    {
     "name": "stdout",
     "output_type": "stream",
     "text": [
      "Enter the number of rows : 3\n",
      "Enter the number of columns : 3\n",
      "Elements : 1\n",
      "Elements : 5\n",
      "Elements : 6\n",
      "Elements : 4\n",
      "Elements : 2\n",
      "Elements : 2\n",
      "Elements : 8\n",
      "Elements : 5\n",
      "Elements : 2\n",
      "The original matrix :\n",
      " [[1. 5. 6.]\n",
      " [4. 2. 2.]\n",
      " [8. 5. 2.]]\n",
      "Rank of the matrix :\n",
      " 3\n"
     ]
    }
   ],
   "source": [
    "import numpy as np\n",
    "a=[]\n",
    "r=int(input(\"Enter the number of rows : \"))\n",
    "c=int(input(\"Enter the number of columns : \"))\n",
    "for i in range(r*c):\n",
    "    a.append(float(input(\"Elements : \")))\n",
    "a=np.array(a).reshape(r,c)\n",
    "print(\"The original matrix :\\n\",a)\n",
    "print(\"Rank of the matrix :\\n\",np.linalg.matrix_rank(a))"
   ]
  },
  {
   "cell_type": "code",
   "execution_count": 14,
   "id": "1dc5efee",
   "metadata": {},
   "outputs": [
    {
     "name": "stdout",
     "output_type": "stream",
     "text": [
      "Enter the number of rows : 2\n",
      "Elements : 4\n",
      "Elements : 1\n",
      "Elements : 2\n",
      "Elements : 3\n",
      "The original matrix :\n",
      " [[4. 1.]\n",
      " [2. 3.]]\n",
      "Determinant of the matrix :\n",
      " 10\n"
     ]
    }
   ],
   "source": [
    "import numpy as np\n",
    "a=[]\n",
    "r=int(input(\"Enter the number of rows : \"))\n",
    "for i in range(r**2):\n",
    "    a.append(float(input(\"Elements : \")))\n",
    "a=np.array(a).reshape(r,r)\n",
    "print(\"The original matrix :\\n\",a)\n",
    "print(\"Determinant of the matrix :\\n\",round(np.linalg.det(a)))"
   ]
  },
  {
   "cell_type": "code",
   "execution_count": 15,
   "id": "1b8b4e96",
   "metadata": {},
   "outputs": [
    {
     "name": "stdout",
     "output_type": "stream",
     "text": [
      "Enter the number of rows : 2\n",
      "Elements : 2\n",
      "Elements : 1\n",
      "Elements : 2\n",
      "Elements : 3\n",
      "The original matrix :\n",
      " [[2. 1.]\n",
      " [2. 3.]]\n",
      "Inverse :\n",
      " [[ 0.75 -0.25]\n",
      " [-0.5   0.5 ]]\n"
     ]
    }
   ],
   "source": [
    "import numpy as np\n",
    "a=[]\n",
    "r=int(input(\"Enter the number of rows : \"))\n",
    "for i in range(r**2):\n",
    "    a.append(float(input(\"Elements : \")))\n",
    "a=np.array(a).reshape(r,r)\n",
    "print(\"The original matrix :\\n\",a)\n",
    "if round(np.linalg.det(a)) !=0:\n",
    "    print(\"Inverse :\\n\",np.linalg.inv(a))\n",
    "else:\n",
    "    print(\"Can not find inverse !!\")"
   ]
  },
  {
   "cell_type": "code",
   "execution_count": 21,
   "id": "68336541",
   "metadata": {},
   "outputs": [
    {
     "name": "stdout",
     "output_type": "stream",
     "text": [
      "Enter the number of rows : 2\n",
      "Enter the number of columns : 2\n",
      "Elements : 9\n",
      "Elements : 4\n",
      "Elements : 5\n",
      "Elements : 2\n",
      "The original matrix :\n",
      " [[9. 4.]\n",
      " [5. 2.]]\n",
      "Eigen values :\n",
      " [11.17890835 -0.17890835]\n",
      "Eigen matrices :\n",
      " [[ 0.87816399 -0.39949624]\n",
      " [ 0.47835971  0.91673483]]\n"
     ]
    }
   ],
   "source": [
    "import numpy as np\n",
    "a=[]\n",
    "r=int(input(\"Enter the number of rows : \"))\n",
    "c=int(input(\"Enter the number of columns : \"))\n",
    "for i in range(r*c):\n",
    "    a.append(float(input(\"Elements : \")))\n",
    "a=np.array(a).reshape(r,c)\n",
    "print(\"The original matrix :\\n\",a)\n",
    "va,v=np.linalg.eig(a)\n",
    "print(\"Eigen values :\\n\",va)\n",
    "print(\"Eigen matrices :\\n\",v)"
   ]
  },
  {
   "cell_type": "code",
   "execution_count": null,
   "id": "7af19b6c",
   "metadata": {},
   "outputs": [],
   "source": []
  }
 ],
 "metadata": {
  "kernelspec": {
   "display_name": "Python 3 (ipykernel)",
   "language": "python",
   "name": "python3"
  },
  "language_info": {
   "codemirror_mode": {
    "name": "ipython",
    "version": 3
   },
   "file_extension": ".py",
   "mimetype": "text/x-python",
   "name": "python",
   "nbconvert_exporter": "python",
   "pygments_lexer": "ipython3",
   "version": "3.9.7"
  }
 },
 "nbformat": 4,
 "nbformat_minor": 5
}
