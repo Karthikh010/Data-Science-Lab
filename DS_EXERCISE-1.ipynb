{
 "cells": [
  {
   "cell_type": "code",
   "execution_count": 30,
   "id": "b301753b",
   "metadata": {},
   "outputs": [
    {
     "name": "stdout",
     "output_type": "stream",
     "text": [
      "\n",
      "The two arrays are : \n",
      " [1 2 3 4 5] \n",
      " [2 3 1 4 9]\n",
      "\n",
      "Greater than :\n",
      "\n",
      "[False False  True False False]\n",
      "\n",
      "Greater than or equal to :\n",
      "\n",
      "[False False  True  True False]\n",
      "\n",
      "Less than :\n",
      "\n",
      "[ True  True False False  True]\n",
      "\n",
      "Greater than :\n",
      "\n",
      "[ True  True False  True  True]\n"
     ]
    }
   ],
   "source": [
    "import numpy as np\n",
    "a1=np.array([1,2,3,4,5])\n",
    "a2=np.array([2,3,1,4,9])\n",
    "print(\"\\nThe two arrays are : \")\n",
    "print(\"\",a1,\"\\n\",a2)\n",
    "print(\"\\nGreater than :\\n\")\n",
    "print(np.greater(a1,a2))\n",
    "print(\"\\nGreater than or equal to :\\n\")\n",
    "print(np.greater_equal(a1,a2))\n",
    "print(\"\\nLess than :\\n\")\n",
    "print(np.less(a1,a2))\n",
    "print(\"\\nGreater than :\\n\")\n",
    "print(np.less_equal(a1,a2))\n"
   ]
  },
  {
   "cell_type": "code",
   "execution_count": 36,
   "id": "ca3a2169",
   "metadata": {},
   "outputs": [
    {
     "name": "stdout",
     "output_type": "stream",
     "text": [
      "[30 32 34 36 38 40 42 44 46 48 50 52 54 56 58 60 62 64 66 68 70]\n"
     ]
    }
   ],
   "source": [
    "import numpy as np\n",
    "print(np.arange(30,71,2))"
   ]
  },
  {
   "cell_type": "code",
   "execution_count": 42,
   "id": "2b00d5a9",
   "metadata": {},
   "outputs": [
    {
     "name": "stdout",
     "output_type": "stream",
     "text": [
      "[[1 0 0]\n",
      " [0 1 0]\n",
      " [0 0 1]]\n"
     ]
    }
   ],
   "source": [
    "import numpy as np\n",
    "ar=np.array([[1,0,0],[0,1,0],[0,0,1]])\n",
    "print(ar)"
   ]
  },
  {
   "cell_type": "code",
   "execution_count": 43,
   "id": "b9197f27",
   "metadata": {},
   "outputs": [
    {
     "name": "stdout",
     "output_type": "stream",
     "text": [
      "[[1. 0. 0.]\n",
      " [0. 1. 0.]\n",
      " [0. 0. 1.]]\n"
     ]
    }
   ],
   "source": [
    "print(np.identity(3))"
   ]
  },
  {
   "cell_type": "code",
   "execution_count": 46,
   "id": "f561475b",
   "metadata": {},
   "outputs": [
    {
     "name": "stdout",
     "output_type": "stream",
     "text": [
      "Original vector :\n",
      " [ 0  1  2  3  4  5  6  7  8  9 10 11 12 13 14 15 16 17 18 19 20]\n",
      "Resultant vector :\n",
      " [  0   1   2   3   4   5   6   7   8  -9 -10 -11 -12 -13 -14 -15  16  17\n",
      "  18  19  20]\n"
     ]
    }
   ],
   "source": [
    "v=np.arange(0,21)\n",
    "print(\"Original vector :\\n\",v)\n",
    "v[(v>8) & (v<16)]*=-1\n",
    "print(\"Resultant vector :\\n\",v)"
   ]
  },
  {
   "cell_type": "code",
   "execution_count": 49,
   "id": "3750aaf8",
   "metadata": {},
   "outputs": [
    {
     "name": "stdout",
     "output_type": "stream",
     "text": [
      "matrix : \n",
      " [[1 0 0 0 0]\n",
      " [0 2 0 0 0]\n",
      " [0 0 3 0 0]\n",
      " [0 0 0 4 0]\n",
      " [0 0 0 0 5]]\n"
     ]
    }
   ],
   "source": [
    "print(\"matrix : \\n\",np.diag([1,2,3,4,5]))"
   ]
  },
  {
   "cell_type": "code",
   "execution_count": 51,
   "id": "cc5a2da4",
   "metadata": {},
   "outputs": [
    {
     "name": "stdout",
     "output_type": "stream",
     "text": [
      "The array :\n",
      " [[1 2 3]\n",
      " [4 1 5]\n",
      " [6 7 1]]\n",
      "Sum of all elements :\n",
      " 30\n",
      "Sum of row elements :\n",
      " [ 6 10 14]\n",
      "Sum of column elements :\n",
      " [11 10  9]\n"
     ]
    }
   ],
   "source": [
    "ar=np.array([[1,2,3],[4,1,5],[6,7,1]])\n",
    "print(\"The array :\\n\",ar)\n",
    "print(\"Sum of all elements :\\n\",np.sum(ar))\n",
    "print(\"Sum of row elements :\\n\",np.sum(ar,axis=1))\n",
    "print(\"Sum of column elements :\\n\",np.sum(ar,axis=0))"
   ]
  },
  {
   "cell_type": "code",
   "execution_count": 57,
   "id": "83e4922a",
   "metadata": {},
   "outputs": [
    {
     "name": "stdout",
     "output_type": "stream",
     "text": [
      "Original array:\n",
      "[[ 0  1  2]\n",
      " [ 3  4  5]\n",
      " [ 6  7  8]\n",
      " [ 9 10 11]]\n",
      "After loading:\n",
      "[[ 0.  1.  2.]\n",
      " [ 3.  4.  5.]\n",
      " [ 6.  7.  8.]\n",
      " [ 9. 10. 11.]]\n"
     ]
    }
   ],
   "source": [
    "import numpy as np\n",
    "import os\n",
    "x = np.arange(12).reshape(4, 3)\n",
    "print(\"Original array:\")\n",
    "print(x)\n",
    "#header = 'col1 col2 col3'\n",
    "np.savetxt('array_file.txt', x, fmt=\"%d\") \n",
    "print(\"After loading:\")\n",
    "result = np.loadtxt('array_file.txt')\n",
    "print(result)"
   ]
  },
  {
   "cell_type": "code",
   "execution_count": 67,
   "id": "0d295350",
   "metadata": {},
   "outputs": [
    {
     "name": "stdout",
     "output_type": "stream",
     "text": [
      "Original arrays:\n",
      "[0.5 1.  5. ]\n",
      "[0.49 1.   0.2 ]\n",
      "\n",
      "two arrays are equal (element wise) or not :\n",
      "[False  True False]\n"
     ]
    }
   ],
   "source": [
    "import numpy as np\n",
    "a1 = np.array([0.5,1,5])\n",
    "a2 = np.array([0.49,1,0.2])\n",
    "print(\"Original arrays:\")\n",
    "print(a1)\n",
    "print(a2)\n",
    "print(\"\\ntwo arrays are equal (element wise) or not :\")\n",
    "print(a1 == a2)"
   ]
  },
  {
   "cell_type": "code",
   "execution_count": 84,
   "id": "4f0d0304",
   "metadata": {},
   "outputs": [
    {
     "name": "stdout",
     "output_type": "stream",
     "text": [
      "Original array :\n",
      " [[17 17  0 14]\n",
      " [18  3  3  4]\n",
      " [18 14  9 17]\n",
      " [ 1 17  1  0]]\n",
      "Swapped array : \n",
      " [[ 1 17  1  0]\n",
      " [18  3  3  4]\n",
      " [18 14  9 17]\n",
      " [17 17  0 14]]\n"
     ]
    }
   ],
   "source": [
    "a1=np.random.randint(20,size=(16)).reshape(4,4)\n",
    "print(\"Original array :\\n\",a1)\n",
    "a1[[0,3]]=a1[[3,0]]\n",
    "print(\"Swapped array : \\n\",a1)"
   ]
  },
  {
   "cell_type": "code",
   "execution_count": 87,
   "id": "59af2167",
   "metadata": {},
   "outputs": [
    {
     "name": "stdout",
     "output_type": "stream",
     "text": [
      "[[5 4]\n",
      " [6 2]] \n",
      "x\n",
      " [[6 4]\n",
      " [4 0]] \n",
      "=\n",
      "[[30 16]\n",
      " [24  0]]\n"
     ]
    }
   ],
   "source": [
    "a1=np.random.randint(10,size=(4)).reshape(2,2)\n",
    "a2=np.random.randint(10,size=(4)).reshape(2,2)\n",
    "print(a1,\"\\nx\\n\",a2,\"\\n=\")\n",
    "print(np.multiply(a1,a2))"
   ]
  },
  {
   "cell_type": "code",
   "execution_count": null,
   "id": "c6eb49dd",
   "metadata": {},
   "outputs": [],
   "source": []
  }
 ],
 "metadata": {
  "kernelspec": {
   "display_name": "Python 3 (ipykernel)",
   "language": "python",
   "name": "python3"
  },
  "language_info": {
   "codemirror_mode": {
    "name": "ipython",
    "version": 3
   },
   "file_extension": ".py",
   "mimetype": "text/x-python",
   "name": "python",
   "nbconvert_exporter": "python",
   "pygments_lexer": "ipython3",
   "version": "3.9.7"
  }
 },
 "nbformat": 4,
 "nbformat_minor": 5
}
