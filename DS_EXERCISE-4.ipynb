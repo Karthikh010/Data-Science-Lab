{
 "cells": [
  {
   "cell_type": "code",
   "execution_count": 10,
   "id": "ecc35792",
   "metadata": {},
   "outputs": [
    {
     "name": "stdout",
     "output_type": "stream",
     "text": [
      "List : \n",
      " ['Abc', 'Def', 'Ghi', 'Jkl', 'Mno']\n",
      "Series : \n",
      " 1    Abc\n",
      "2    Def\n",
      "3    Ghi\n",
      "4    Jkl\n",
      "5    Mno\n",
      "dtype: object\n"
     ]
    }
   ],
   "source": [
    "#1\n",
    "\n",
    "import pandas as pd\n",
    "list=[\"Abc\",\"Def\",\"Ghi\",\"Jkl\",\"Mno\"]\n",
    "series = pd.Series(list,index = [1,2,3,4,5])\n",
    "print(\"List : \\n\",list)\n",
    "print(\"Series : \\n\",series)"
   ]
  },
  {
   "cell_type": "code",
   "execution_count": 14,
   "id": "038fe812",
   "metadata": {},
   "outputs": [
    {
     "name": "stdout",
     "output_type": "stream",
     "text": [
      "Date series : \n",
      "\n",
      "2021-05-01 00:00:00\n",
      "2021-05-02 00:00:00\n",
      "2021-05-03 00:00:00\n",
      "2021-05-04 00:00:00\n",
      "2021-05-05 00:00:00\n",
      "2021-05-06 00:00:00\n",
      "2021-05-07 00:00:00\n",
      "2021-05-08 00:00:00\n",
      "2021-05-09 00:00:00\n",
      "2021-05-10 00:00:00\n",
      "2021-05-11 00:00:00\n",
      "2021-05-12 00:00:00\n"
     ]
    }
   ],
   "source": [
    "#2\n",
    "\n",
    "date = pd.date_range(start = '05-01-2021', end = '05-12-2021')\n",
    "print(\"Date series : \\n\")\n",
    "for i in date:\n",
    "    print(i)\n",
    "    "
   ]
  },
  {
   "cell_type": "code",
   "execution_count": 17,
   "id": "0eb72147",
   "metadata": {},
   "outputs": [
    {
     "name": "stdout",
     "output_type": "stream",
     "text": [
      "  Name  Age University\n",
      "1  Abc   23         KU\n",
      "2  Def   21        JNU\n",
      "3  Ghi   22         DU\n",
      "4  Jkl   21        KTU\n",
      "5  Mno   21        KTU\n"
     ]
    }
   ],
   "source": [
    "#3\n",
    "\n",
    "data = {'Name' : [\"Abc\",\"Def\",\"Ghi\",\"Jkl\",\"Mno\"],\n",
    "         'Age' : [23, 21, 22, 21,21],\n",
    "  'University' : ['KU', 'JNU', 'DU', 'KTU','KTU'],}\n",
    "df = pd.DataFrame(data,index = [1,2,3,4,5])\n",
    "print(df) "
   ]
  },
  {
   "cell_type": "code",
   "execution_count": 29,
   "id": "926866ae",
   "metadata": {},
   "outputs": [
    {
     "name": "stdout",
     "output_type": "stream",
     "text": [
      "   I  II  III\n",
      "a  1   2    3\n",
      "b  4   5    6\n",
      "c  7   8    9\n"
     ]
    }
   ],
   "source": [
    "#4\n",
    "\n",
    "d = [[1,2,3],[4,5,6],[7,8,9]]\n",
    "df = pd.DataFrame(d,columns=['I','II','III'],index=['a','b','c'])\n",
    "print(df)"
   ]
  },
  {
   "cell_type": "code",
   "execution_count": 28,
   "id": "1fe1d306",
   "metadata": {},
   "outputs": [
    {
     "name": "stdout",
     "output_type": "stream",
     "text": [
      "csv :\n",
      "         country  gold_medal\n",
      "0  United States          46\n",
      "1  Great Britain          27\n",
      "2          China          26\n",
      "3         Russia          19\n",
      "4        Germany          17\n",
      "\n",
      "dataframe :\n",
      "         country\n",
      "0  United States\n",
      "1  Great Britain\n",
      "2          China\n",
      "3         Russia\n",
      "4        Germany\n"
     ]
    }
   ],
   "source": [
    "#5\n",
    "    \n",
    "print(\"csv :\")\n",
    "df=pd.read_csv(\"DS_EXERCISE-3-CSV.csv\")\n",
    "print(df)\n",
    "print(\"\\ndataframe :\")\n",
    "df=pd.read_csv(\"DS_EXERCISE-3-CSV.csv\",usecols=['country'])\n",
    "print(df)"
   ]
  },
  {
   "cell_type": "code",
   "execution_count": 49,
   "id": "c1d3f60d",
   "metadata": {},
   "outputs": [
    {
     "name": "stdout",
     "output_type": "stream",
     "text": [
      "Original :\n",
      "     Name  Age  Rank\n",
      "i    Abc   20     1\n",
      "ii   Def   22    10\n",
      "iii  Ghi   21     8\n",
      "iv   Jkl   19     9\n",
      "v    Mno   21     3\n",
      "\n",
      "Sorted :\n",
      "    Name  Age  Rank\n",
      "i    Abc   20     1\n",
      "v    Mno   21     3\n",
      "iii  Ghi   21     8\n",
      "iv   Jkl   19     9\n",
      "ii   Def   22    10\n"
     ]
    }
   ],
   "source": [
    "#6\n",
    "\n",
    "import numpy as np\n",
    "df = pd.DataFrame({'Name': [\"Abc\",\"Def\",\"Ghi\",\"Jkl\",\"Mno\"],'Age': [20, 22, 21, 19, 21],'Rank': [1,10,8, 9,3]},\n",
    "                  index = ['i','ii','iii','iv','v'])\n",
    "print(\"Original :\\n\",df)\n",
    "print(\"\\nSorted :\")\n",
    "print(df.sort_values(by=['Rank','Age'], ascending=[True,False] ))"
   ]
  },
  {
   "cell_type": "code",
   "execution_count": 50,
   "id": "301691c4",
   "metadata": {},
   "outputs": [
    {
     "name": "stdout",
     "output_type": "stream",
     "text": [
      "    Name  Age  Rank\n",
      "i    Abc   20     1\n",
      "ii   Def   22    10\n",
      "iii  Ghi   21     8\n",
      "iv   Jkl   19     9\n",
      "v    Mno   21     3\n",
      "  index Name  Age  Rank\n",
      "0     i  Abc   20     1\n",
      "1    ii  Def   22    10\n",
      "2   iii  Ghi   21     8\n",
      "3    iv  Jkl   19     9\n",
      "4     v  Mno   21     3\n"
     ]
    }
   ],
   "source": [
    "#7\n",
    "\n",
    "print(df)\n",
    "dataframe = df.reset_index()\n",
    "print(dataframe)"
   ]
  },
  {
   "cell_type": "code",
   "execution_count": 53,
   "id": "a26e7371",
   "metadata": {},
   "outputs": [
    {
     "name": "stdout",
     "output_type": "stream",
     "text": [
      "Printing first 2 rows : \n",
      "\n",
      "   Name  Age  Rank\n",
      "i   Abc   20     1\n",
      "ii  Def   22    10 \n",
      "\n"
     ]
    }
   ],
   "source": [
    "#8\n",
    "\n",
    "print(\"Printing first 2 rows : \\n\")\n",
    "df1 = df.head(2) #df.iloc[[0, 1]]\n",
    "print(df1,\"\\n\") "
   ]
  },
  {
   "cell_type": "code",
   "execution_count": 58,
   "id": "deb687fd",
   "metadata": {},
   "outputs": [
    {
     "name": "stdout",
     "output_type": "stream",
     "text": [
      "Employees : \n",
      "   Name Occupation  Salary\n",
      "0  Abc   Engineer    1000\n",
      "1  Def     Doctor   10000\n",
      "2  Ghi     Sports    8000\n",
      "3  Jkl   Engineer    9000\n",
      "4  Mno     Doctor    3000\n",
      "The  average salary per occupation : \n",
      "   Occupation  Count  Avg Salary\n",
      "0     Doctor      2      6500.0\n",
      "1   Engineer      2      5000.0\n",
      "2     Sports      1      8000.0\n"
     ]
    }
   ],
   "source": [
    "#9\n",
    "\n",
    "employee=pd.DataFrame({'Name': [\"Abc\",\"Def\",\"Ghi\",\"Jkl\",\"Mno\"],\n",
    "                       'Occupation': [\"Engineer\",\"Doctor\",\"Sports\",\"Engineer\",\"Doctor\"],\n",
    "                       'Salary': [1000,10000,8000,9000,3000]})\n",
    "print(\"Employees : \\n\",employee)\n",
    "dept_agg = employee.groupby('Occupation').Salary.agg(['count','mean']).reset_index()\n",
    "print(\"The  average salary per occupation : \\n\",dept_agg.rename(columns={'count':'Count','mean':'Avg Salary'}))\n",
    "\n"
   ]
  },
  {
   "cell_type": "code",
   "execution_count": 66,
   "id": "15cd6886",
   "metadata": {},
   "outputs": [
    {
     "name": "stdout",
     "output_type": "stream",
     "text": [
      "With NaN Values :\n",
      "    Set_of_Numbers\n",
      "0             2.0\n",
      "1             NaN\n",
      "2             5.0\n",
      "3             7.0\n",
      "4            11.0\n",
      "5            13.0\n",
      "6             NaN\n",
      "7            19.0\n",
      "8            23.0\n",
      "9             NaN\n",
      "values with 0 :\n",
      "    Set_of_Numbers\n",
      "0             2.0\n",
      "1             0.0\n",
      "2             5.0\n",
      "3             7.0\n",
      "4            11.0\n",
      "5            13.0\n",
      "6             0.0\n",
      "7            19.0\n",
      "8            23.0\n",
      "9             0.0\n"
     ]
    }
   ],
   "source": [
    "#10\n",
    " \n",
    "nums = {'Set_of_Numbers': [2, np.nan, 5, 7, 11, 13,np.nan, 19, 23, np.nan]}\n",
    "df = pd.DataFrame(nums, columns =['Set_of_Numbers'])\n",
    "print(\"With NaN Values :\\n\",df) \n",
    "df['Set_of_Numbers'] = df['Set_of_Numbers'].fillna(0)\n",
    "print(\"values with 0 :\\n\",df)"
   ]
  },
  {
   "cell_type": "code",
   "execution_count": 70,
   "id": "f6cff1de",
   "metadata": {},
   "outputs": [
    {
     "name": "stdout",
     "output_type": "stream",
     "text": [
      "original dataframe :\n",
      "   Name  profit\n",
      "0  Abc    1000\n",
      "1  Def   10000\n",
      "2  Ghi   -2000\n",
      "3  Jkl    8000\n",
      "4  Mno    9000\n",
      "5  Pqr   -3000\n",
      "required dataframe :\n",
      "   Name  profit\n",
      "0  Abc    True\n",
      "1  Def    True\n",
      "2  Ghi   False\n",
      "3  Jkl    True\n",
      "4  Mno    True\n",
      "5  Pqr   False\n"
     ]
    }
   ],
   "source": [
    "#11\n",
    "\n",
    "company_data=pd.DataFrame({'Name': [\"Abc\",\"Def\",\"Ghi\",\"Jkl\",\"Mno\",\"Pqr\"],\n",
    "                       'profit': [1000,10000,-2000,8000,9000,-3000]})\n",
    "print(\"original dataframe :\\n\",company_data) \n",
    "company_data['profit'] = company_data['profit'].apply(lambda x:x>0)\n",
    "print(\"required dataframe :\\n\",company_data) "
   ]
  },
  {
   "cell_type": "code",
   "execution_count": 75,
   "id": "9c71bc7f",
   "metadata": {},
   "outputs": [
    {
     "name": "stdout",
     "output_type": "stream",
     "text": [
      "1st DataFrame :\n",
      "    eid ename  Stipend\n",
      "0    1   Abc     1000\n",
      "1    2   Def    10000\n",
      "2    3   Ghi     8000\n",
      "3    4   Jkl     9000\n",
      "4    5   Mno     3000\n",
      "\n",
      "2nd DataFrame :\n",
      "    eid  position\n",
      "0    1  employee\n",
      "1    2  employee\n",
      "2    3    intern\n",
      "3    4  employee\n",
      "4    5    intern\n",
      "\n",
      "Required dataframe :\n",
      "    eid ename  Stipend  position\n",
      "0    1   Abc     1000  employee\n",
      "1    2   Def    10000  employee\n",
      "2    3   Ghi     8000    intern\n",
      "3    4   Jkl     9000  employee\n",
      "4    5   Mno     3000    intern\n"
     ]
    }
   ],
   "source": [
    "#12\n",
    "\n",
    "emp_data=pd.DataFrame({'eid': [1,2,3,4,5],\n",
    "                       'ename': [\"Abc\",\"Def\",\"Ghi\",\"Jkl\",\"Mno\"],\n",
    "                       'Stipend': [1000,10000,8000,9000,3000]})\n",
    "company_data=pd.DataFrame({'eid': [1,2,3,4,5],\n",
    "                       'position': [\"employee\",\"employee\",\"intern\",\"employee\",\"intern\"]})\n",
    "print(\"1st DataFrame :\\n\",emp_data) \n",
    "print(\"\\n2nd DataFrame :\\n\",company_data) \n",
    "dataframe = pd.merge(emp_data, company_data, how = 'inner', on = 'eid') \n",
    "print(\"\\nRequired dataframe :\\n\",dataframe)"
   ]
  },
  {
   "cell_type": "code",
   "execution_count": null,
   "id": "1e643403",
   "metadata": {},
   "outputs": [],
   "source": []
  }
 ],
 "metadata": {
  "kernelspec": {
   "display_name": "Python 3 (ipykernel)",
   "language": "python",
   "name": "python3"
  },
  "language_info": {
   "codemirror_mode": {
    "name": "ipython",
    "version": 3
   },
   "file_extension": ".py",
   "mimetype": "text/x-python",
   "name": "python",
   "nbconvert_exporter": "python",
   "pygments_lexer": "ipython3",
   "version": "3.9.7"
  }
 },
 "nbformat": 4,
 "nbformat_minor": 5
}
